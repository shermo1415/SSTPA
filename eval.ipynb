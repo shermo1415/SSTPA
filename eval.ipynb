{
 "cells": [
  {
   "cell_type": "code",
   "execution_count": 8,
   "id": "7970d9b9-7944-4dc0-be16-fe48af17be40",
   "metadata": {},
   "outputs": [],
   "source": [
    "import numpy as np\n",
    "import matplotlib.pyplot as plt\n",
    "from config import configs\n",
    "import torch"
   ]
  },
  {
   "cell_type": "code",
   "execution_count": 9,
   "id": "ecc7c8eb-80a1-4a4e-8f23-7781e6f9c336",
   "metadata": {},
   "outputs": [],
   "source": [
    "def unnormal(data, dims = 3, dmin = None, dmax = None):\n",
    "    for i in range(dims):\n",
    "        data[:,i::dims] = data[:,i::dims] * (dmax[i] - dmin[i]) + dmin[i]\n",
    "    return data\n",
    "\n",
    "def normal(data):\n",
    "    for i in range(data.shape[1]):\n",
    "        dmax = data[:,i].max()\n",
    "        dmin = data[:,i].min()\n",
    "        data[:,i] = (data[:,i] - dmin) / (dmax - dmin)\n",
    "    return data\n",
    "\n",
    "def calc_psnr(img1, img2):\n",
    "    img1t = torch.tensor(normal(img1))\n",
    "    img2t = torch.tensor(normal(img2))\n",
    "    return 10. * torch.log10(1. / torch.mean((img1t - img2t) ** 2)).item()"
   ]
  },
  {
   "cell_type": "code",
   "execution_count": 10,
   "id": "ec83754e-40f9-40fa-82b0-46f2d6a9c468",
   "metadata": {},
   "outputs": [
    {
     "name": "stdout",
     "output_type": "stream",
     "text": [
      "0.028286846\n"
     ]
    }
   ],
   "source": [
    "va = np.load(configs.val_path, allow_pickle = True).item()['variables']\n",
    "minl = []\n",
    "maxl = []\n",
    "for dim in configs.dims:\n",
    "    minl.append(va[dim][0])\n",
    "    maxl.append(va[dim][1])\n",
    "pred = np.load('result/pred.npy')\n",
    "true = np.load('result/true.npy')\n",
    "diff = np.abs(pred - true)\n",
    "print(diff.mean())\n",
    "pred = unnormal(np.load('result/pred.npy'), 2, minl, maxl)\n",
    "true = unnormal(np.load('result/true.npy'), 2, minl, maxl)"
   ]
  },
  {
   "cell_type": "code",
   "execution_count": 11,
   "id": "a0ca748a-4639-413b-ab97-6ae0d149aa34",
   "metadata": {},
   "outputs": [
    {
     "data": {
      "text/plain": [
       "(433, 24, 2, 64, 64)"
      ]
     },
     "execution_count": 11,
     "metadata": {},
     "output_type": "execute_result"
    }
   ],
   "source": [
    "pred.shape"
   ]
  },
  {
   "cell_type": "code",
   "execution_count": 12,
   "id": "4d87b9f2-e9d1-4919-87ce-3cedcd1daa5c",
   "metadata": {},
   "outputs": [],
   "source": [
    "mae = []\n",
    "mse = []\n",
    "psnr = []\n",
    "\n",
    "for d in range(2):\n",
    "    mae.append(torch.nn.functional.l1_loss(torch.tensor(pred[:,:,d::2]), torch.tensor(true[:,:,d::2])).item())\n",
    "    mse.append(torch.nn.functional.mse_loss(torch.tensor(pred[:,:,d::2]), torch.tensor(true[:,:,d::2])).item())\n",
    "    psnr.append(calc_psnr(pred[:,:,d::2], true[:,:,d::2]))"
   ]
  },
  {
   "cell_type": "code",
   "execution_count": 13,
   "id": "31aaa399-10c9-4388-b741-077dab7f2ea1",
   "metadata": {},
   "outputs": [
    {
     "name": "stdout",
     "output_type": "stream",
     "text": [
      "0.6810325384140015\n",
      "0.7987245917320251\n",
      "1.0346953868865967\n",
      "1.410548448562622\n",
      "20.447452068328857\n",
      "22.857861518859863\n"
     ]
    }
   ],
   "source": [
    "for i in range(2):\n",
    "    print(mae[i])\n",
    "for i in range(2):\n",
    "    print(mse[i])\n",
    "for i in range(2):\n",
    "    print(psnr[i])"
   ]
  },
  {
   "cell_type": "code",
   "execution_count": null,
   "id": "176e4f34-3e36-45ab-ada3-75be8675cf6a",
   "metadata": {},
   "outputs": [],
   "source": [
    "0.060640204697847366\n",
    "0.09641994535923004\n",
    "0.006348756607621908\n",
    "0.014250955544412136\n",
    "21.973114013671875\n",
    "18.461560010910034"
   ]
  }
 ],
 "metadata": {
  "kernelspec": {
   "display_name": "Python 3 (ipykernel)",
   "language": "python",
   "name": "python3"
  },
  "language_info": {
   "codemirror_mode": {
    "name": "ipython",
    "version": 3
   },
   "file_extension": ".py",
   "mimetype": "text/x-python",
   "name": "python",
   "nbconvert_exporter": "python",
   "pygments_lexer": "ipython3",
   "version": "3.10.8"
  }
 },
 "nbformat": 4,
 "nbformat_minor": 5
}
