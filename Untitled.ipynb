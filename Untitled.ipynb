{
 "cells": [
  {
   "cell_type": "code",
   "execution_count": 1,
   "id": "d53f60a1-6d2e-4b15-8af4-395d25f89644",
   "metadata": {},
   "outputs": [
    {
     "name": "stdout",
     "output_type": "stream",
     "text": [
      "342\n"
     ]
    }
   ],
   "source": [
    "import torch\n",
    "import torch.nn as nn\n",
    "import torch.nn.functional as F\n",
    "from torch.utils.data import DataLoader\n",
    "import numpy as np\n",
    "from model.model import network\n",
    "from makedataset import TimeDownScalingDataset\n",
    "import pickle\n",
    "import math\n",
    "from torch.cuda.amp import autocast, GradScaler\n",
    "from config import configs\n",
    "from log import printwrite\n",
    "file = \"log/log.txt\"\n",
    "\n",
    "########################################################################################################################\n",
    "if __name__ == '__main__':\n",
    "\n",
    "    dataset_eval = TimeDownScalingDataset(configs.val_path, configs.dims, configs.interinterval)\n",
    "    # dataset_eval.indexs = dataset_eval.indexs[::25]\n",
    "    print(dataset_eval.GetDataShape())\n",
    "    dataloader_eval = DataLoader(dataset_eval, batch_size=8, shuffle=False)"
   ]
  },
  {
   "cell_type": "code",
   "execution_count": 3,
   "id": "d418cddd-e197-4b3b-9438-6a8ef855b482",
   "metadata": {
    "scrolled": true
   },
   "outputs": [
    {
     "name": "stdout",
     "output_type": "stream",
     "text": [
      "torch.Size([8, 12, 64, 64]) torch.Size([8, 2, 5]) torch.Size([8, 2, 6, 64, 64]) torch.Size([8, 6, 64, 64])\n",
      "torch.Size([8, 12, 64, 64]) torch.Size([8, 2, 5]) torch.Size([8, 2, 6, 64, 64]) torch.Size([8, 6, 64, 64])\n",
      "torch.Size([8, 12, 64, 64]) torch.Size([8, 2, 5]) torch.Size([8, 2, 6, 64, 64]) torch.Size([8, 6, 64, 64])\n",
      "torch.Size([8, 12, 64, 64]) torch.Size([8, 2, 5]) torch.Size([8, 2, 6, 64, 64]) torch.Size([8, 6, 64, 64])\n",
      "torch.Size([8, 12, 64, 64]) torch.Size([8, 2, 5]) torch.Size([8, 2, 6, 64, 64]) torch.Size([8, 6, 64, 64])\n",
      "torch.Size([8, 12, 64, 64]) torch.Size([8, 2, 5]) torch.Size([8, 2, 6, 64, 64]) torch.Size([8, 6, 64, 64])\n",
      "torch.Size([8, 12, 64, 64]) torch.Size([8, 2, 5]) torch.Size([8, 2, 6, 64, 64]) torch.Size([8, 6, 64, 64])\n",
      "torch.Size([8, 12, 64, 64]) torch.Size([8, 2, 5]) torch.Size([8, 2, 6, 64, 64]) torch.Size([8, 6, 64, 64])\n",
      "torch.Size([8, 12, 64, 64]) torch.Size([8, 2, 5]) torch.Size([8, 2, 6, 64, 64]) torch.Size([8, 6, 64, 64])\n",
      "torch.Size([8, 12, 64, 64]) torch.Size([8, 2, 5]) torch.Size([8, 2, 6, 64, 64]) torch.Size([8, 6, 64, 64])\n",
      "torch.Size([8, 12, 64, 64]) torch.Size([8, 2, 5]) torch.Size([8, 2, 6, 64, 64]) torch.Size([8, 6, 64, 64])\n",
      "torch.Size([8, 12, 64, 64]) torch.Size([8, 2, 5]) torch.Size([8, 2, 6, 64, 64]) torch.Size([8, 6, 64, 64])\n",
      "torch.Size([8, 12, 64, 64]) torch.Size([8, 2, 5]) torch.Size([8, 2, 6, 64, 64]) torch.Size([8, 6, 64, 64])\n",
      "torch.Size([8, 12, 64, 64]) torch.Size([8, 2, 5]) torch.Size([8, 2, 6, 64, 64]) torch.Size([8, 6, 64, 64])\n",
      "torch.Size([8, 12, 64, 64]) torch.Size([8, 2, 5]) torch.Size([8, 2, 6, 64, 64]) torch.Size([8, 6, 64, 64])\n",
      "torch.Size([8, 12, 64, 64]) torch.Size([8, 2, 5]) torch.Size([8, 2, 6, 64, 64]) torch.Size([8, 6, 64, 64])\n",
      "torch.Size([8, 12, 64, 64]) torch.Size([8, 2, 5]) torch.Size([8, 2, 6, 64, 64]) torch.Size([8, 6, 64, 64])\n",
      "torch.Size([8, 12, 64, 64]) torch.Size([8, 2, 5]) torch.Size([8, 2, 6, 64, 64]) torch.Size([8, 6, 64, 64])\n",
      "torch.Size([8, 12, 64, 64]) torch.Size([8, 2, 5]) torch.Size([8, 2, 6, 64, 64]) torch.Size([8, 6, 64, 64])\n",
      "torch.Size([8, 12, 64, 64]) torch.Size([8, 2, 5]) torch.Size([8, 2, 6, 64, 64]) torch.Size([8, 6, 64, 64])\n",
      "torch.Size([8, 12, 64, 64]) torch.Size([8, 2, 5]) torch.Size([8, 2, 6, 64, 64]) torch.Size([8, 6, 64, 64])\n",
      "torch.Size([8, 12, 64, 64]) torch.Size([8, 2, 5]) torch.Size([8, 2, 6, 64, 64]) torch.Size([8, 6, 64, 64])\n",
      "torch.Size([8, 12, 64, 64]) torch.Size([8, 2, 5]) torch.Size([8, 2, 6, 64, 64]) torch.Size([8, 6, 64, 64])\n",
      "torch.Size([8, 12, 64, 64]) torch.Size([8, 2, 5]) torch.Size([8, 2, 6, 64, 64]) torch.Size([8, 6, 64, 64])\n",
      "torch.Size([8, 12, 64, 64]) torch.Size([8, 2, 5]) torch.Size([8, 2, 6, 64, 64]) torch.Size([8, 6, 64, 64])\n",
      "torch.Size([8, 12, 64, 64]) torch.Size([8, 2, 5]) torch.Size([8, 2, 6, 64, 64]) torch.Size([8, 6, 64, 64])\n",
      "torch.Size([8, 12, 64, 64]) torch.Size([8, 2, 5]) torch.Size([8, 2, 6, 64, 64]) torch.Size([8, 6, 64, 64])\n",
      "torch.Size([8, 12, 64, 64]) torch.Size([8, 2, 5]) torch.Size([8, 2, 6, 64, 64]) torch.Size([8, 6, 64, 64])\n",
      "torch.Size([8, 12, 64, 64]) torch.Size([8, 2, 5]) torch.Size([8, 2, 6, 64, 64]) torch.Size([8, 6, 64, 64])\n",
      "torch.Size([8, 12, 64, 64]) torch.Size([8, 2, 5]) torch.Size([8, 2, 6, 64, 64]) torch.Size([8, 6, 64, 64])\n",
      "torch.Size([8, 12, 64, 64]) torch.Size([8, 2, 5]) torch.Size([8, 2, 6, 64, 64]) torch.Size([8, 6, 64, 64])\n",
      "torch.Size([8, 12, 64, 64]) torch.Size([8, 2, 5]) torch.Size([8, 2, 6, 64, 64]) torch.Size([8, 6, 64, 64])\n",
      "torch.Size([8, 12, 64, 64]) torch.Size([8, 2, 5]) torch.Size([8, 2, 6, 64, 64]) torch.Size([8, 6, 64, 64])\n",
      "torch.Size([8, 12, 64, 64]) torch.Size([8, 2, 5]) torch.Size([8, 2, 6, 64, 64]) torch.Size([8, 6, 64, 64])\n",
      "torch.Size([8, 12, 64, 64]) torch.Size([8, 2, 5]) torch.Size([8, 2, 6, 64, 64]) torch.Size([8, 6, 64, 64])\n",
      "torch.Size([8, 12, 64, 64]) torch.Size([8, 2, 5]) torch.Size([8, 2, 6, 64, 64]) torch.Size([8, 6, 64, 64])\n",
      "torch.Size([8, 12, 64, 64]) torch.Size([8, 2, 5]) torch.Size([8, 2, 6, 64, 64]) torch.Size([8, 6, 64, 64])\n",
      "torch.Size([8, 12, 64, 64]) torch.Size([8, 2, 5]) torch.Size([8, 2, 6, 64, 64]) torch.Size([8, 6, 64, 64])\n",
      "torch.Size([8, 12, 64, 64]) torch.Size([8, 2, 5]) torch.Size([8, 2, 6, 64, 64]) torch.Size([8, 6, 64, 64])\n",
      "torch.Size([8, 12, 64, 64]) torch.Size([8, 2, 5]) torch.Size([8, 2, 6, 64, 64]) torch.Size([8, 6, 64, 64])\n",
      "torch.Size([8, 12, 64, 64]) torch.Size([8, 2, 5]) torch.Size([8, 2, 6, 64, 64]) torch.Size([8, 6, 64, 64])\n",
      "torch.Size([8, 12, 64, 64]) torch.Size([8, 2, 5]) torch.Size([8, 2, 6, 64, 64]) torch.Size([8, 6, 64, 64])\n",
      "torch.Size([6, 12, 64, 64]) torch.Size([6, 2, 5]) torch.Size([6, 2, 6, 64, 64]) torch.Size([6, 6, 64, 64])\n"
     ]
    }
   ],
   "source": [
    "for img, time, fy, fygt in dataloader_eval:\n",
    "    print(img.shape, time.shape, fy.shape, fygt.shape)"
   ]
  },
  {
   "cell_type": "code",
   "execution_count": 2,
   "id": "e835d84d-ce11-46d8-8f84-c87d336d6982",
   "metadata": {},
   "outputs": [
    {
     "name": "stdout",
     "output_type": "stream",
     "text": [
      "(2, 12, 32, 32)\n"
     ]
    }
   ],
   "source": [
    "import pywt\n",
    "import numpy as np\n",
    "\n",
    "def batch_wavelet_decomposition(batch_array, wavelet='haar'):\n",
    "    B, C, H, W = batch_array.shape\n",
    "    new_H, new_W = H // 2, W // 2\n",
    "    decomposed = np.zeros((B, C * 4, new_H, new_W))\n",
    "    \n",
    "    for b in range(B):\n",
    "        for c in range(C):\n",
    "            img = batch_array[b, c]\n",
    "            LL, (LH, HL, HH) = pywt.dwt2(img, wavelet)\n",
    "            # 将4个系数堆叠到通道维度\n",
    "            decomposed[b, c*4] = LL\n",
    "            decomposed[b, c*4+1] = LH\n",
    "            decomposed[b, c*4+2] = HL\n",
    "            decomposed[b, c*4+3] = HH\n",
    "    return decomposed\n",
    "\n",
    "# 示例输入（B=2, C=3, H=64, W=64）\n",
    "input_array = np.random.randn(2, 3, 64, 64)\n",
    "output = batch_wavelet_decomposition(input_array, wavelet='db1')\n",
    "print(output.shape)  # 输出 (2, 12, 32, 32)\n"
   ]
  },
  {
   "cell_type": "code",
   "execution_count": null,
   "id": "ef36f539-13d7-4fda-9f30-51f600846d45",
   "metadata": {},
   "outputs": [],
   "source": [
    "小波基选择建议\n",
    "1. 气象数据\n",
    "推荐小波：Daubechies (dbN) 或 Symlets (symN)，如 db4、sym5。\n",
    "理由：气象数据（如温度、气压）通常是连续平滑信号，Daubechies和Symlets小波具有较高的消失矩，能有效捕捉平滑变化特征。\n",
    "2. 卫星云图\n",
    "推荐小波：双正交小波（如 bior2.2、bior4.4）。\n",
    "理由：卫星云图属于图像数据，双正交小波在图像压缩中广泛使用，能平衡对称性和重构质量，减少边缘失真。"
   ]
  },
  {
   "cell_type": "code",
   "execution_count": 2,
   "id": "94b9a363-ce71-4c61-958f-80e2427b314a",
   "metadata": {},
   "outputs": [],
   "source": [
    "import torch\n",
    "x = torch.randn(5).cuda()"
   ]
  },
  {
   "cell_type": "code",
   "execution_count": 4,
   "id": "bf42ddab-ff3d-4bf3-bdac-bd60a16f931c",
   "metadata": {},
   "outputs": [
    {
     "ename": "TypeError",
     "evalue": "'torch.device' object is not callable",
     "output_type": "error",
     "traceback": [
      "\u001b[0;31m---------------------------------------------------------------------------\u001b[0m",
      "\u001b[0;31mTypeError\u001b[0m                                 Traceback (most recent call last)",
      "Cell \u001b[0;32mIn[4], line 1\u001b[0m\n\u001b[0;32m----> 1\u001b[0m \u001b[43mx\u001b[49m\u001b[38;5;241;43m.\u001b[39;49m\u001b[43mdevice\u001b[49m\u001b[43m(\u001b[49m\u001b[43m)\u001b[49m\n",
      "\u001b[0;31mTypeError\u001b[0m: 'torch.device' object is not callable"
     ]
    }
   ],
   "source": []
  },
  {
   "cell_type": "code",
   "execution_count": 1,
   "id": "b6b12fa8-6ff3-4e3f-9762-1df110819ac8",
   "metadata": {},
   "outputs": [],
   "source": [
    "import torch\n",
    "a = torch.nn.Parameter(torch.ones(4))"
   ]
  },
  {
   "cell_type": "code",
   "execution_count": 4,
   "id": "f8c82336-ecb7-4409-822e-707bb9bd9b9b",
   "metadata": {},
   "outputs": [
    {
     "name": "stderr",
     "output_type": "stream",
     "text": [
      "/tmp/ipykernel_19021/2430103232.py:1: UserWarning: Implicit dimension choice for softmax has been deprecated. Change the call to include dim=X as an argument.\n",
      "  torch.nn.functional.softmax(a)\n"
     ]
    },
    {
     "data": {
      "text/plain": [
       "tensor([0.2500, 0.2500, 0.2500, 0.2500], grad_fn=<SoftmaxBackward0>)"
      ]
     },
     "execution_count": 4,
     "metadata": {},
     "output_type": "execute_result"
    }
   ],
   "source": [
    "torch.nn.functional.softmax(a)"
   ]
  },
  {
   "cell_type": "code",
   "execution_count": null,
   "id": "cc45da0a-ef03-4825-8e4d-94f392b85e31",
   "metadata": {},
   "outputs": [],
   "source": []
  }
 ],
 "metadata": {
  "kernelspec": {
   "display_name": "Python 3 (ipykernel)",
   "language": "python",
   "name": "python3"
  },
  "language_info": {
   "codemirror_mode": {
    "name": "ipython",
    "version": 3
   },
   "file_extension": ".py",
   "mimetype": "text/x-python",
   "name": "python",
   "nbconvert_exporter": "python",
   "pygments_lexer": "ipython3",
   "version": "3.10.8"
  }
 },
 "nbformat": 4,
 "nbformat_minor": 5
}
